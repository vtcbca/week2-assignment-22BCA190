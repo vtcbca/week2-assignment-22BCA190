{
 "cells": [
  {
   "cell_type": "code",
   "execution_count": 1,
   "id": "5e122521",
   "metadata": {},
   "outputs": [],
   "source": [
    "import sqlite3"
   ]
  },
  {
   "cell_type": "code",
   "execution_count": 2,
   "id": "28450c3e",
   "metadata": {},
   "outputs": [],
   "source": [
    "con=sqlite3.connect(\"stud190.db\")"
   ]
  },
  {
   "cell_type": "code",
   "execution_count": 3,
   "id": "fa9d2890",
   "metadata": {},
   "outputs": [],
   "source": [
    "cur=con.cursor()"
   ]
  },
  {
   "cell_type": "code",
   "execution_count": 4,
   "id": "3689fcac",
   "metadata": {},
   "outputs": [],
   "source": [
    "table1=\"create table if not exists stud(id int primary key,name text)\""
   ]
  },
  {
   "cell_type": "code",
   "execution_count": 8,
   "id": "a5c0fcde",
   "metadata": {},
   "outputs": [],
   "source": [
    "table2=\"create table if not exists stud_details(id int PRIMARY KEY,city text,mobileno int,FOREIGN KEY (id) references stud(id))\""
   ]
  },
  {
   "cell_type": "code",
   "execution_count": 9,
   "id": "f0af60ef",
   "metadata": {},
   "outputs": [
    {
     "data": {
      "text/plain": [
       "<sqlite3.Cursor at 0x23275cbea40>"
      ]
     },
     "execution_count": 9,
     "metadata": {},
     "output_type": "execute_result"
    }
   ],
   "source": [
    "cur.execute(table1)"
   ]
  },
  {
   "cell_type": "code",
   "execution_count": 10,
   "id": "e0e9bad6",
   "metadata": {},
   "outputs": [
    {
     "data": {
      "text/plain": [
       "<sqlite3.Cursor at 0x23275cbea40>"
      ]
     },
     "execution_count": 10,
     "metadata": {},
     "output_type": "execute_result"
    }
   ],
   "source": [
    "cur.execute(table2)"
   ]
  },
  {
   "cell_type": "code",
   "execution_count": 11,
   "id": "6740b50c",
   "metadata": {},
   "outputs": [],
   "source": [
    "con.commit()"
   ]
  },
  {
   "cell_type": "code",
   "execution_count": 27,
   "id": "61373db9",
   "metadata": {},
   "outputs": [],
   "source": [
    "l1=[]"
   ]
  },
  {
   "cell_type": "code",
   "execution_count": 30,
   "id": "8b53ee18",
   "metadata": {},
   "outputs": [],
   "source": [
    "l2=[]"
   ]
  },
  {
   "cell_type": "code",
   "execution_count": 29,
   "id": "df5e2116",
   "metadata": {},
   "outputs": [
    {
     "name": "stdout",
     "output_type": "stream",
     "text": [
      "Enter A Student name :om\n",
      "Enter A Student name :sai\n",
      "Enter A Student name :ram\n",
      "Enter A Student name :kishan\n",
      "Enter A Student name :radja\n",
      "Enter A Student name :jay\n",
      "Enter A Student name :kunal\n",
      "Enter A Student name :neel\n",
      "Enter A Student name :kevin\n",
      "Enter A Student name :shiv\n"
     ]
    },
    {
     "data": {
      "text/plain": [
       "<sqlite3.Cursor at 0x23275cbea40>"
      ]
     },
     "execution_count": 29,
     "metadata": {},
     "output_type": "execute_result"
    }
   ],
   "source": [
    "q1=\"insert into stud values(?,?)\"\n",
    "for i in range(1,11):\n",
    "    name=(input(\"Enter A Student name :\"))\n",
    "    t1=(i,name)\n",
    "    l1.append(t1)\n",
    "cur.executemany(q1,l1)"
   ]
  },
  {
   "cell_type": "code",
   "execution_count": 31,
   "id": "495468a5",
   "metadata": {},
   "outputs": [
    {
     "name": "stdout",
     "output_type": "stream",
     "text": [
      "Enter a City :surat\n",
      "Enter a Mobile Number :9313405913\n",
      "Enter a City :bardoli\n",
      "Enter a Mobile Number :9656446632\n",
      "Enter a City :mumbai\n",
      "Enter a Mobile Number :9865321478\n",
      "Enter a City :bhuj\n",
      "Enter a Mobile Number :9869362545\n",
      "Enter a City :bharuch\n",
      "Enter a Mobile Number :7685954535\n",
      "Enter a City :bardoli\n",
      "Enter a Mobile Number :8565352516\n",
      "Enter a City :surat\n",
      "Enter a Mobile Number :8565253515\n",
      "Enter a City :vyara\n",
      "Enter a Mobile Number :8565251545\n",
      "Enter a City :bardoli\n",
      "Enter a Mobile Number :8545653525\n",
      "Enter a City :kolkata\n",
      "Enter a Mobile Number :8565452535\n"
     ]
    },
    {
     "data": {
      "text/plain": [
       "<sqlite3.Cursor at 0x23275cbea40>"
      ]
     },
     "execution_count": 31,
     "metadata": {},
     "output_type": "execute_result"
    }
   ],
   "source": [
    "q2=\"insert into stud_details values(?,?,?)\"\n",
    "for i in range(1,11):\n",
    "    city=input(\"Enter a City :\")\n",
    "    mobileno=int(input(\"Enter a Mobile Number :\"))\n",
    "    t2=(i,city,mobileno)\n",
    "    l2.append(t2)\n",
    "cur.executemany(q2,l2)"
   ]
  },
  {
   "cell_type": "code",
   "execution_count": 33,
   "id": "efec50e1",
   "metadata": {},
   "outputs": [],
   "source": [
    "con.commit()"
   ]
  },
  {
   "cell_type": "code",
   "execution_count": 34,
   "id": "0bd72636",
   "metadata": {},
   "outputs": [],
   "source": [
    "query1=\"select stud.name,stud_details.city from stud INNER JOIN stud_details ON stud.id=stud_details.id WHERE stud_details.city='surat'\""
   ]
  },
  {
   "cell_type": "code",
   "execution_count": 35,
   "id": "c9109574",
   "metadata": {},
   "outputs": [
    {
     "data": {
      "text/plain": [
       "<sqlite3.Cursor at 0x23275cbea40>"
      ]
     },
     "execution_count": 35,
     "metadata": {},
     "output_type": "execute_result"
    }
   ],
   "source": [
    "cur.execute(query1)"
   ]
  },
  {
   "cell_type": "code",
   "execution_count": 36,
   "id": "03026c41",
   "metadata": {},
   "outputs": [],
   "source": [
    "suratrec=cur.fetchall()"
   ]
  },
  {
   "cell_type": "code",
   "execution_count": 38,
   "id": "6010588e",
   "metadata": {},
   "outputs": [
    {
     "name": "stdout",
     "output_type": "stream",
     "text": [
      "Student Name is :om\n",
      "Student City is :surat\n",
      "Student Name is :kunal\n",
      "Student City is :surat\n"
     ]
    }
   ],
   "source": [
    "for i in suratrec:\n",
    "    print(\"Student Name is :{}\".format(i[0]))\n",
    "    print(\"Student City is :{}\".format(i[1]))"
   ]
  },
  {
   "cell_type": "code",
   "execution_count": 39,
   "id": "ff807bdf",
   "metadata": {},
   "outputs": [],
   "source": [
    "query2=\"select stud.name,stud_details.city from stud INNER JOIN stud_details ON stud.id=stud_details.id WHERE stud_details.city LIKE 'b%'\""
   ]
  },
  {
   "cell_type": "code",
   "execution_count": 41,
   "id": "925bc8f1",
   "metadata": {},
   "outputs": [
    {
     "data": {
      "text/plain": [
       "<sqlite3.Cursor at 0x23275cbea40>"
      ]
     },
     "execution_count": 41,
     "metadata": {},
     "output_type": "execute_result"
    }
   ],
   "source": [
    "cur.execute(query2)"
   ]
  },
  {
   "cell_type": "code",
   "execution_count": 42,
   "id": "d2b6e88e",
   "metadata": {},
   "outputs": [],
   "source": [
    "brec=cur.fetchall()"
   ]
  },
  {
   "cell_type": "code",
   "execution_count": 43,
   "id": "2b54bfc0",
   "metadata": {},
   "outputs": [
    {
     "name": "stdout",
     "output_type": "stream",
     "text": [
      "Student Name is :sai\n",
      "Student City is :bardoli\n",
      "Student Name is :kishan\n",
      "Student City is :bhuj\n",
      "Student Name is :radja\n",
      "Student City is :bharuch\n",
      "Student Name is :jay\n",
      "Student City is :bardoli\n",
      "Student Name is :kevin\n",
      "Student City is :bardoli\n"
     ]
    }
   ],
   "source": [
    "for i in brec:\n",
    "    print(\"Student Name is :{}\".format(i[0]))\n",
    "    print(\"Student City is :{}\".format(i[1]))"
   ]
  },
  {
   "cell_type": "code",
   "execution_count": 45,
   "id": "7d2e41aa",
   "metadata": {},
   "outputs": [],
   "source": [
    "query3='''update stud_details SET mobileno='9876543210' WHERE city=\"surat\"'''"
   ]
  },
  {
   "cell_type": "code",
   "execution_count": 46,
   "id": "27d57c73",
   "metadata": {},
   "outputs": [
    {
     "data": {
      "text/plain": [
       "<sqlite3.Cursor at 0x23275cbea40>"
      ]
     },
     "execution_count": 46,
     "metadata": {},
     "output_type": "execute_result"
    }
   ],
   "source": [
    "cur.execute(query3)"
   ]
  },
  {
   "cell_type": "code",
   "execution_count": 47,
   "id": "ced5712a",
   "metadata": {},
   "outputs": [],
   "source": [
    "con.commit()"
   ]
  },
  {
   "cell_type": "code",
   "execution_count": 48,
   "id": "f46b6594",
   "metadata": {},
   "outputs": [],
   "source": [
    "con.close()"
   ]
  },
  {
   "cell_type": "code",
   "execution_count": null,
   "id": "26fb870d",
   "metadata": {},
   "outputs": [],
   "source": []
  }
 ],
 "metadata": {
  "kernelspec": {
   "display_name": "Python 3 (ipykernel)",
   "language": "python",
   "name": "python3"
  },
  "language_info": {
   "codemirror_mode": {
    "name": "ipython",
    "version": 3
   },
   "file_extension": ".py",
   "mimetype": "text/x-python",
   "name": "python",
   "nbconvert_exporter": "python",
   "pygments_lexer": "ipython3",
   "version": "3.11.3"
  }
 },
 "nbformat": 4,
 "nbformat_minor": 5
}
