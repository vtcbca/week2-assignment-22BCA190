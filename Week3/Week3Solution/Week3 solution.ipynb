{
 "cells": [
  {
   "cell_type": "code",
   "execution_count": 1,
   "id": "c5c4cba8",
   "metadata": {},
   "outputs": [],
   "source": [
    "import sqlite3"
   ]
  },
  {
   "cell_type": "code",
   "execution_count": 2,
   "id": "242cf2ff",
   "metadata": {},
   "outputs": [],
   "source": [
    "con=sqlite3.connect(\"ESM.db\")"
   ]
  },
  {
   "cell_type": "code",
   "execution_count": 3,
   "id": "733050f6",
   "metadata": {},
   "outputs": [],
   "source": [
    "create=\"create table if not exists Employee(eid initeger primary key,ename text,dept text,basic int,branch text)\""
   ]
  },
  {
   "cell_type": "code",
   "execution_count": 4,
   "id": "24ffba10",
   "metadata": {},
   "outputs": [],
   "source": [
    "cur=con.cursor()"
   ]
  },
  {
   "cell_type": "code",
   "execution_count": 5,
   "id": "e14f5ecb",
   "metadata": {},
   "outputs": [
    {
     "data": {
      "text/plain": [
       "<sqlite3.Cursor at 0x1c24f27ddc0>"
      ]
     },
     "execution_count": 5,
     "metadata": {},
     "output_type": "execute_result"
    }
   ],
   "source": [
    "cur.execute(create)"
   ]
  },
  {
   "cell_type": "code",
   "execution_count": 6,
   "id": "8f99fc97",
   "metadata": {},
   "outputs": [],
   "source": [
    "con.commit()"
   ]
  },
  {
   "cell_type": "code",
   "execution_count": 7,
   "id": "7694c012",
   "metadata": {},
   "outputs": [],
   "source": [
    "dirctinsert=\"insert into Employee values(1,'om','IT',5000,'surat'),(2,'sai','HR',500,'bardoli'),(3,'ram','Account',1500,'bharuch'),(4,'radha','Inventory',4000,'vyara'),(5,'gopal','IT',5500,'surat')\""
   ]
  },
  {
   "cell_type": "code",
   "execution_count": 24,
   "id": "650b6a49",
   "metadata": {},
   "outputs": [
    {
     "data": {
      "text/plain": [
       "<sqlite3.Cursor at 0x247bf19e840>"
      ]
     },
     "execution_count": 24,
     "metadata": {},
     "output_type": "execute_result"
    }
   ],
   "source": [
    "cur.execute(dirctinsert)"
   ]
  },
  {
   "cell_type": "code",
   "execution_count": 8,
   "id": "eac1cf8d",
   "metadata": {},
   "outputs": [],
   "source": [
    "tupleinsert=[\n",
    "    (6, 'charvin', 'IT', 4800.0, 'surat'),\n",
    "    (7, 'kunal', 'IT', 5200.0, 'bardoli'),\n",
    "    (8, 'haary', 'Inventory', 5500.0, 'bharuch'),\n",
    "    (9, 'tom', 'IT', 4900.0, 'vyara'),\n",
    "    (10, 'berlin', 'Account', 5100.0, 'bardoli')\n",
    "]"
   ]
  },
  {
   "cell_type": "code",
   "execution_count": 26,
   "id": "e0d27623",
   "metadata": {},
   "outputs": [
    {
     "data": {
      "text/plain": [
       "<sqlite3.Cursor at 0x247bf19e840>"
      ]
     },
     "execution_count": 26,
     "metadata": {},
     "output_type": "execute_result"
    }
   ],
   "source": [
    "cur.executemany(\"insert into Employee values(?,?,?,?,?)\",tupleinsert)"
   ]
  },
  {
   "cell_type": "code",
   "execution_count": 9,
   "id": "c1e42f61",
   "metadata": {},
   "outputs": [],
   "source": [
    "con.commit()"
   ]
  },
  {
   "cell_type": "code",
   "execution_count": 28,
   "id": "3b746214",
   "metadata": {},
   "outputs": [
    {
     "name": "stdout",
     "output_type": "stream",
     "text": [
      "Enter a Name :nil\n",
      "Enter a Department :IT\n",
      "Enter a Basic Salary :5000\n",
      "Enter a Branch :surat\n",
      "Enter a Name :raju\n",
      "Enter a Department :Account\n",
      "Enter a Basic Salary :4500\n",
      "Enter a Branch :mumbai\n",
      "Enter a Name :fenil\n",
      "Enter a Department :HR\n",
      "Enter a Basic Salary :3000\n",
      "Enter a Branch :surat\n",
      "Enter a Name :krish\n",
      "Enter a Department :Inventory\n",
      "Enter a Basic Salary :2500\n",
      "Enter a Branch :bardoli\n",
      "Enter a Name :keval\n",
      "Enter a Department :HR\n",
      "Enter a Basic Salary :3000\n",
      "Enter a Branch :bhuj\n"
     ]
    },
    {
     "data": {
      "text/plain": [
       "<sqlite3.Cursor at 0x247bf19e840>"
      ]
     },
     "execution_count": 28,
     "metadata": {},
     "output_type": "execute_result"
    }
   ],
   "source": [
    "userinsert=\"insert into Employee values(?,?,?,?,?)\"\n",
    "l=[]\n",
    "for i in range(11,16):\n",
    "    ename=input(\"Enter a Name :\")\n",
    "    dept=input(\"Enter a Department :\")\n",
    "    basic=int(input(\"Enter a Basic Salary :\"))\n",
    "    branch=input(\"Enter a Branch :\")\n",
    "    t=(i,ename,dept,basic,branch)\n",
    "    l.append(t)\n",
    "cur.executemany(userinsert,l)"
   ]
  },
  {
   "cell_type": "code",
   "execution_count": 10,
   "id": "88a86c39",
   "metadata": {},
   "outputs": [],
   "source": [
    "con.commit()"
   ]
  },
  {
   "cell_type": "code",
   "execution_count": 11,
   "id": "c8732c6a",
   "metadata": {},
   "outputs": [],
   "source": [
    "query3=\"update Employee SET basic=basic+(basic/10) Where branch='surat'\""
   ]
  },
  {
   "cell_type": "code",
   "execution_count": 12,
   "id": "da08f487",
   "metadata": {},
   "outputs": [
    {
     "data": {
      "text/plain": [
       "<sqlite3.Cursor at 0x1c24f27ddc0>"
      ]
     },
     "execution_count": 12,
     "metadata": {},
     "output_type": "execute_result"
    }
   ],
   "source": [
    "cur.execute(query3)"
   ]
  },
  {
   "cell_type": "code",
   "execution_count": 13,
   "id": "1a0287e4",
   "metadata": {},
   "outputs": [],
   "source": [
    "con.commit()"
   ]
  },
  {
   "cell_type": "code",
   "execution_count": 14,
   "id": "b32845d2",
   "metadata": {},
   "outputs": [],
   "source": [
    "query4=\"select * from Employee\""
   ]
  },
  {
   "cell_type": "code",
   "execution_count": 15,
   "id": "c509207b",
   "metadata": {},
   "outputs": [
    {
     "data": {
      "text/plain": [
       "<sqlite3.Cursor at 0x1c24f27ddc0>"
      ]
     },
     "execution_count": 15,
     "metadata": {},
     "output_type": "execute_result"
    }
   ],
   "source": [
    "cur.execute(query4)"
   ]
  },
  {
   "cell_type": "code",
   "execution_count": 16,
   "id": "d983e86d",
   "metadata": {},
   "outputs": [],
   "source": [
    "rec=cur.fetchall()"
   ]
  },
  {
   "cell_type": "code",
   "execution_count": 17,
   "id": "2c4e3819",
   "metadata": {},
   "outputs": [
    {
     "name": "stdout",
     "output_type": "stream",
     "text": [
      "(1, 'om', 'IT', 6050, 'surat')\n",
      "(2, 'sai', 'HR', 500, 'bardoli')\n",
      "(3, 'ram', 'Account', 1500, 'bharuch')\n",
      "(4, 'radha', 'Inventory', 4000, 'vyara')\n",
      "(5, 'gopal', 'IT', 6655, 'surat')\n",
      "(6, 'charvin', 'IT', 5808, 'surat')\n",
      "(7, 'kunal', 'IT', 5200, 'bardoli')\n",
      "(8, 'haary', 'Inventory', 5500, 'bharuch')\n",
      "(9, 'tom', 'IT', 4900, 'vyara')\n",
      "(10, 'berlin', 'Account', 5100, 'bardoli')\n",
      "(11, 'nil', 'IT', 6050, 'surat')\n",
      "(12, 'raju', 'Account', 4500, 'mumbai')\n",
      "(13, 'fenil', 'HR', 3630, 'surat')\n",
      "(14, 'krish', 'Inventory', 2500, 'bardoli')\n",
      "(15, 'keval', 'HR', 3000, 'bhuj')\n"
     ]
    }
   ],
   "source": [
    "for record in rec:\n",
    "    print(record)"
   ]
  },
  {
   "cell_type": "code",
   "execution_count": 18,
   "id": "dd295333",
   "metadata": {},
   "outputs": [],
   "source": [
    "con.commit()"
   ]
  },
  {
   "cell_type": "code",
   "execution_count": 19,
   "id": "05cb54a4",
   "metadata": {},
   "outputs": [],
   "source": [
    "query5=\"select * from Employee where dept IN ('HR','IT')\""
   ]
  },
  {
   "cell_type": "code",
   "execution_count": 20,
   "id": "6e09e260",
   "metadata": {},
   "outputs": [
    {
     "data": {
      "text/plain": [
       "<sqlite3.Cursor at 0x1c24f27ddc0>"
      ]
     },
     "execution_count": 20,
     "metadata": {},
     "output_type": "execute_result"
    }
   ],
   "source": [
    "cur.execute(query5)"
   ]
  },
  {
   "cell_type": "code",
   "execution_count": 21,
   "id": "ac8eb817",
   "metadata": {},
   "outputs": [],
   "source": [
    "deptrec=cur.fetchall()"
   ]
  },
  {
   "cell_type": "code",
   "execution_count": 22,
   "id": "38d0bff0",
   "metadata": {},
   "outputs": [
    {
     "name": "stdout",
     "output_type": "stream",
     "text": [
      "(1, 'om', 'IT', 6050, 'surat')\n",
      "(2, 'sai', 'HR', 500, 'bardoli')\n",
      "(5, 'gopal', 'IT', 6655, 'surat')\n",
      "(6, 'charvin', 'IT', 5808, 'surat')\n",
      "(7, 'kunal', 'IT', 5200, 'bardoli')\n",
      "(9, 'tom', 'IT', 4900, 'vyara')\n",
      "(11, 'nil', 'IT', 6050, 'surat')\n",
      "(13, 'fenil', 'HR', 3630, 'surat')\n",
      "(15, 'keval', 'HR', 3000, 'bhuj')\n"
     ]
    }
   ],
   "source": [
    "for rec in deptrec:\n",
    "    print(rec)"
   ]
  },
  {
   "cell_type": "code",
   "execution_count": 23,
   "id": "d73b2c74",
   "metadata": {},
   "outputs": [],
   "source": [
    "con.commit()"
   ]
  },
  {
   "cell_type": "code",
   "execution_count": 24,
   "id": "5271cebe",
   "metadata": {},
   "outputs": [],
   "source": [
    "query7=\"select * from Employee where basic > 6000\""
   ]
  },
  {
   "cell_type": "code",
   "execution_count": 25,
   "id": "745335d0",
   "metadata": {},
   "outputs": [
    {
     "data": {
      "text/plain": [
       "<sqlite3.Cursor at 0x1c24f27ddc0>"
      ]
     },
     "execution_count": 25,
     "metadata": {},
     "output_type": "execute_result"
    }
   ],
   "source": [
    "cur.execute(query7)"
   ]
  },
  {
   "cell_type": "code",
   "execution_count": 26,
   "id": "6055d046",
   "metadata": {},
   "outputs": [],
   "source": [
    "basicrec=cur.fetchall()"
   ]
  },
  {
   "cell_type": "code",
   "execution_count": 27,
   "id": "dd4ab3e7",
   "metadata": {},
   "outputs": [
    {
     "name": "stdout",
     "output_type": "stream",
     "text": [
      "(1, 'om', 'IT', 6050, 'surat')\n",
      "(5, 'gopal', 'IT', 6655, 'surat')\n",
      "(11, 'nil', 'IT', 6050, 'surat')\n"
     ]
    }
   ],
   "source": [
    "for record in basicrec:\n",
    "    print(record)"
   ]
  },
  {
   "cell_type": "code",
   "execution_count": 28,
   "id": "3b482626",
   "metadata": {},
   "outputs": [],
   "source": [
    "con.commit()"
   ]
  },
  {
   "cell_type": "code",
   "execution_count": 29,
   "id": "4cde66ec",
   "metadata": {},
   "outputs": [],
   "source": [
    "query8=\"select * from Employee where ename LIKE '_r%'\""
   ]
  },
  {
   "cell_type": "code",
   "execution_count": 30,
   "id": "11d75342",
   "metadata": {},
   "outputs": [
    {
     "data": {
      "text/plain": [
       "<sqlite3.Cursor at 0x1c24f27ddc0>"
      ]
     },
     "execution_count": 30,
     "metadata": {},
     "output_type": "execute_result"
    }
   ],
   "source": [
    "cur.execute(query8)"
   ]
  },
  {
   "cell_type": "code",
   "execution_count": 31,
   "id": "f455a34b",
   "metadata": {},
   "outputs": [],
   "source": [
    "secondchar=cur.fetchall()"
   ]
  },
  {
   "cell_type": "code",
   "execution_count": 32,
   "id": "21638839",
   "metadata": {},
   "outputs": [
    {
     "name": "stdout",
     "output_type": "stream",
     "text": [
      "(14, 'krish', 'Inventory', 2500, 'bardoli')\n"
     ]
    }
   ],
   "source": [
    "for record in secondchar:\n",
    "    print(record)"
   ]
  },
  {
   "cell_type": "code",
   "execution_count": 33,
   "id": "fd200fb1",
   "metadata": {},
   "outputs": [],
   "source": [
    "con.commit()"
   ]
  },
  {
   "cell_type": "code",
   "execution_count": 34,
   "id": "74c2396a",
   "metadata": {},
   "outputs": [],
   "source": [
    "query9=\"select * from Employee where dept IN ('Account','Inventory')\""
   ]
  },
  {
   "cell_type": "code",
   "execution_count": 35,
   "id": "52c6fe8a",
   "metadata": {},
   "outputs": [
    {
     "data": {
      "text/plain": [
       "<sqlite3.Cursor at 0x1c24f27ddc0>"
      ]
     },
     "execution_count": 35,
     "metadata": {},
     "output_type": "execute_result"
    }
   ],
   "source": [
    "cur.execute(query9)"
   ]
  },
  {
   "cell_type": "code",
   "execution_count": 36,
   "id": "8103fefd",
   "metadata": {},
   "outputs": [],
   "source": [
    "accinv=cur.fetchall()"
   ]
  },
  {
   "cell_type": "code",
   "execution_count": 37,
   "id": "e3518cdb",
   "metadata": {},
   "outputs": [
    {
     "name": "stdout",
     "output_type": "stream",
     "text": [
      "(3, 'ram', 'Account', 1500, 'bharuch')\n",
      "(4, 'radha', 'Inventory', 4000, 'vyara')\n",
      "(8, 'haary', 'Inventory', 5500, 'bharuch')\n",
      "(10, 'berlin', 'Account', 5100, 'bardoli')\n",
      "(12, 'raju', 'Account', 4500, 'mumbai')\n",
      "(14, 'krish', 'Inventory', 2500, 'bardoli')\n"
     ]
    }
   ],
   "source": [
    "for record in accinv:\n",
    "    print(record)"
   ]
  },
  {
   "cell_type": "code",
   "execution_count": 38,
   "id": "456c1ae6",
   "metadata": {},
   "outputs": [],
   "source": [
    "con.commit()"
   ]
  },
  {
   "cell_type": "code",
   "execution_count": 39,
   "id": "251a9beb",
   "metadata": {},
   "outputs": [],
   "source": [
    "query10=\"select * from Employee ORDER BY branch DESC\""
   ]
  },
  {
   "cell_type": "code",
   "execution_count": 40,
   "id": "c4b8310f",
   "metadata": {},
   "outputs": [
    {
     "data": {
      "text/plain": [
       "<sqlite3.Cursor at 0x1c24f27ddc0>"
      ]
     },
     "execution_count": 40,
     "metadata": {},
     "output_type": "execute_result"
    }
   ],
   "source": [
    "cur.execute(query10)"
   ]
  },
  {
   "cell_type": "code",
   "execution_count": 41,
   "id": "d870eeb8",
   "metadata": {},
   "outputs": [],
   "source": [
    "branchrec=cur.fetchall()"
   ]
  },
  {
   "cell_type": "code",
   "execution_count": 42,
   "id": "555256ef",
   "metadata": {},
   "outputs": [
    {
     "name": "stdout",
     "output_type": "stream",
     "text": [
      "(4, 'radha', 'Inventory', 4000, 'vyara')\n",
      "(9, 'tom', 'IT', 4900, 'vyara')\n",
      "(1, 'om', 'IT', 6050, 'surat')\n",
      "(5, 'gopal', 'IT', 6655, 'surat')\n",
      "(6, 'charvin', 'IT', 5808, 'surat')\n",
      "(11, 'nil', 'IT', 6050, 'surat')\n",
      "(13, 'fenil', 'HR', 3630, 'surat')\n",
      "(12, 'raju', 'Account', 4500, 'mumbai')\n",
      "(15, 'keval', 'HR', 3000, 'bhuj')\n",
      "(3, 'ram', 'Account', 1500, 'bharuch')\n",
      "(8, 'haary', 'Inventory', 5500, 'bharuch')\n",
      "(2, 'sai', 'HR', 500, 'bardoli')\n",
      "(7, 'kunal', 'IT', 5200, 'bardoli')\n",
      "(10, 'berlin', 'Account', 5100, 'bardoli')\n",
      "(14, 'krish', 'Inventory', 2500, 'bardoli')\n"
     ]
    }
   ],
   "source": [
    "for record in branchrec:\n",
    "    print(record)"
   ]
  },
  {
   "cell_type": "code",
   "execution_count": 43,
   "id": "6a3eed45",
   "metadata": {},
   "outputs": [],
   "source": [
    "con.commit()"
   ]
  },
  {
   "cell_type": "code",
   "execution_count": 44,
   "id": "818e1a65",
   "metadata": {},
   "outputs": [],
   "source": [
    "query6=\"select * from Employee ORDER BY dept ASC\""
   ]
  },
  {
   "cell_type": "code",
   "execution_count": 45,
   "id": "31df3b10",
   "metadata": {},
   "outputs": [
    {
     "data": {
      "text/plain": [
       "<sqlite3.Cursor at 0x1c24f27ddc0>"
      ]
     },
     "execution_count": 45,
     "metadata": {},
     "output_type": "execute_result"
    }
   ],
   "source": [
    "cur.execute(query6)"
   ]
  },
  {
   "cell_type": "code",
   "execution_count": 46,
   "id": "054ee76e",
   "metadata": {},
   "outputs": [],
   "source": [
    "assrec=cur.fetchall()"
   ]
  },
  {
   "cell_type": "code",
   "execution_count": 47,
   "id": "d81fd194",
   "metadata": {},
   "outputs": [
    {
     "name": "stdout",
     "output_type": "stream",
     "text": [
      "(3, 'ram', 'Account', 1500, 'bharuch')\n",
      "(10, 'berlin', 'Account', 5100, 'bardoli')\n",
      "(12, 'raju', 'Account', 4500, 'mumbai')\n",
      "(2, 'sai', 'HR', 500, 'bardoli')\n",
      "(13, 'fenil', 'HR', 3630, 'surat')\n",
      "(15, 'keval', 'HR', 3000, 'bhuj')\n",
      "(1, 'om', 'IT', 6050, 'surat')\n",
      "(5, 'gopal', 'IT', 6655, 'surat')\n",
      "(6, 'charvin', 'IT', 5808, 'surat')\n",
      "(7, 'kunal', 'IT', 5200, 'bardoli')\n",
      "(9, 'tom', 'IT', 4900, 'vyara')\n",
      "(11, 'nil', 'IT', 6050, 'surat')\n",
      "(4, 'radha', 'Inventory', 4000, 'vyara')\n",
      "(8, 'haary', 'Inventory', 5500, 'bharuch')\n",
      "(14, 'krish', 'Inventory', 2500, 'bardoli')\n"
     ]
    }
   ],
   "source": [
    "for record in assrec:\n",
    "    print(record)"
   ]
  },
  {
   "cell_type": "code",
   "execution_count": 48,
   "id": "750c52aa",
   "metadata": {},
   "outputs": [],
   "source": [
    "con.commit()"
   ]
  },
  {
   "cell_type": "code",
   "execution_count": 49,
   "id": "d9b4cb29",
   "metadata": {},
   "outputs": [],
   "source": [
    "con.close()"
   ]
  },
  {
   "cell_type": "code",
   "execution_count": null,
   "id": "8f210011",
   "metadata": {},
   "outputs": [],
   "source": []
  }
 ],
 "metadata": {
  "kernelspec": {
   "display_name": "Python 3 (ipykernel)",
   "language": "python",
   "name": "python3"
  },
  "language_info": {
   "codemirror_mode": {
    "name": "ipython",
    "version": 3
   },
   "file_extension": ".py",
   "mimetype": "text/x-python",
   "name": "python",
   "nbconvert_exporter": "python",
   "pygments_lexer": "ipython3",
   "version": "3.11.3"
  }
 },
 "nbformat": 4,
 "nbformat_minor": 5
}
